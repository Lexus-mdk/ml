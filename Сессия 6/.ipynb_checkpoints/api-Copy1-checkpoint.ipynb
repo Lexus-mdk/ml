{
 "cells": [
  {
   "cell_type": "code",
   "execution_count": 9,
   "metadata": {},
   "outputs": [],
   "source": [
    "# импорт необходимых библиотек\n",
    "import pickle\n",
    "import pandas as pd\n",
    "from flask import Flask, request"
   ]
  },
  {
   "cell_type": "code",
   "execution_count": 10,
   "metadata": {},
   "outputs": [],
   "source": [
    "# загружаем необходимые модули\n",
    "with open('encoder.pcl', 'rb') as f:\n",
    "    encoder = pickle.load(f)\n",
    "    \n",
    "with open('model.pcl', 'rb') as f:\n",
    "    model = pickle.load(f)"
   ]
  },
  {
   "cell_type": "markdown",
   "metadata": {},
   "source": [
    "# Разработка API"
   ]
  },
  {
   "cell_type": "markdown",
   "metadata": {},
   "source": [
    "Определю команды(функции), которые будут доступны в API"
   ]
  },
  {
   "cell_type": "code",
   "execution_count": 11,
   "metadata": {},
   "outputs": [],
   "source": [
    "app = Flask(__name__)\n",
    "\n",
    "@app.route('/')\n",
    "def check_server():\n",
    "    return '''\n",
    "    <!DOCTYPE HTML>\n",
    "<html>\n",
    " <head>\n",
    "  <meta charset=\"utf-8\">\n",
    "  <title>Данные формы</title>\n",
    " </head>\n",
    " <body>\n",
    "  <form action=\"/model/prediction\" method='get'>\n",
    "  <label for=\"check1\">age</label>\n",
    "   <input name=\"age\"><br>\n",
    "   <label for=\"check1\">time_in_hospital</label>\n",
    "   <input name=\"time_in_hospital\"><br>\n",
    "   <label for=\"check1\">num_lab_procedures</label>\n",
    "   <input name=\"num_lab_procedures\"><br>\n",
    "   <label for=\"check1\">num_medications</label>\n",
    "   <input name=\"num_medications\"><br>\n",
    "   <label for=\"check1\">number_diagnoses</label>\n",
    "   <input name=\"number_diagnoses\"><br>\n",
    "   <label for=\"check1\">A1Cresult</label>\n",
    "   <input name=\"A1Cresult\"><br>\n",
    "   <label for=\"check1\">insulin</label>\n",
    "   <input name=\"insulin\"><br>\n",
    "   <input type=\"submit\">\n",
    "  </form>\n",
    " </body>\n",
    "</html>\n",
    "    '''\n",
    "\n",
    "@app.route('/model/prediction')\n",
    "def get_predict():\n",
    "#     X_df = pd.read_csv('data/'+ file_name)\n",
    "    \n",
    "    X_df = {\n",
    "        'age': request.args.get('age'),\n",
    "        'time_in_hospital': request.args.get('time_in_hospital', type = int),\n",
    "        'num_lab_procedures': request.args.get('num_lab_procedures', type = int),\n",
    "        'num_medications': request.args.get('num_medications', type = int),\n",
    "        'number_diagnoses': request.args.get('number_diagnoses', type = int),\n",
    "        'A1Cresult': request.args.get('A1Cresult'),\n",
    "        'insulin': request.args.get('insulin')\n",
    "    }\n",
    "    X_df = pd.DataFrame(X_df, index=[0])\n",
    "    \n",
    "    X_df['age'] = encoder['age'].transform(X_df['age'])\n",
    "    X_df['A1Cresult'] = encoder['A1Cresult'].transform(X_df['A1Cresult'])\n",
    "    X_df['insulin'] = encoder['insulin'].transform(X_df['insulin'])\n",
    "    \n",
    "    pred = model.predict(X_df)\n",
    "    res = encoder['readmitted'].inverse_transform(pred)[0] if encoder['readmitted'].inverse_transform(pred)[0] != 'NO' else '0'\n",
    "\n",
    "    return f'Наиболее вероятно, что пациент будет повторно принят: {res} раз'\n",
    "#     return X_df"
   ]
  },
  {
   "cell_type": "markdown",
   "metadata": {},
   "source": [
    "### Запуск сервера"
   ]
  },
  {
   "cell_type": "markdown",
   "metadata": {},
   "source": [
    "Чтобы перейти на гл. страницу перейдите по ссылке ниже."
   ]
  },
  {
   "cell_type": "code",
   "execution_count": 12,
   "metadata": {
    "scrolled": true
   },
   "outputs": [
    {
     "name": "stdout",
     "output_type": "stream",
     "text": [
      " * Serving Flask app \"__main__\" (lazy loading)\n",
      " * Environment: production\n",
      "   WARNING: This is a development server. Do not use it in a production deployment.\n",
      "   Use a production WSGI server instead.\n",
      " * Debug mode: off\n"
     ]
    },
    {
     "name": "stderr",
     "output_type": "stream",
     "text": [
      " * Running on http://127.0.0.1:5000/ (Press CTRL+C to quit)\n"
     ]
    }
   ],
   "source": [
    "app.run()"
   ]
  },
  {
   "cell_type": "markdown",
   "metadata": {},
   "source": [
    "Для проверки роботоспособности API можно перейти по ссылке: http://127.0.0.1:5000/"
   ]
  },
  {
   "cell_type": "code",
   "execution_count": null,
   "metadata": {},
   "outputs": [],
   "source": []
  },
  {
   "cell_type": "code",
   "execution_count": null,
   "metadata": {},
   "outputs": [],
   "source": []
  }
 ],
 "metadata": {
  "kernelspec": {
   "display_name": "Python 3",
   "language": "python",
   "name": "python3"
  },
  "language_info": {
   "codemirror_mode": {
    "name": "ipython",
    "version": 3
   },
   "file_extension": ".py",
   "mimetype": "text/x-python",
   "name": "python",
   "nbconvert_exporter": "python",
   "pygments_lexer": "ipython3",
   "version": "3.8.3"
  }
 },
 "nbformat": 4,
 "nbformat_minor": 4
}
