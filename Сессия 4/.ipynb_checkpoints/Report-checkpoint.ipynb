{
 "cells": [
  {
   "cell_type": "code",
   "execution_count": 1,
   "metadata": {},
   "outputs": [],
   "source": [
    "import pandas as pd\n",
    "import pickle\n",
    "from sklearn.model_selection import train_test_split\n",
    "from sklearn.preprocessing import LabelEncoder"
   ]
  },
  {
   "cell_type": "code",
   "execution_count": 2,
   "metadata": {
    "scrolled": true
   },
   "outputs": [
    {
     "data": {
      "text/html": [
       "<div>\n",
       "<style scoped>\n",
       "    .dataframe tbody tr th:only-of-type {\n",
       "        vertical-align: middle;\n",
       "    }\n",
       "\n",
       "    .dataframe tbody tr th {\n",
       "        vertical-align: top;\n",
       "    }\n",
       "\n",
       "    .dataframe thead th {\n",
       "        text-align: right;\n",
       "    }\n",
       "</style>\n",
       "<table border=\"1\" class=\"dataframe\">\n",
       "  <thead>\n",
       "    <tr style=\"text-align: right;\">\n",
       "      <th></th>\n",
       "      <th>age</th>\n",
       "      <th>weight</th>\n",
       "      <th>time_in_hospital</th>\n",
       "      <th>num_lab_procedures</th>\n",
       "      <th>num_procedures</th>\n",
       "      <th>num_medications</th>\n",
       "      <th>number_diagnoses</th>\n",
       "      <th>A1Cresult</th>\n",
       "      <th>metformin</th>\n",
       "      <th>glimepiride</th>\n",
       "      <th>glipizide</th>\n",
       "      <th>glyburide</th>\n",
       "      <th>rosiglitazone</th>\n",
       "      <th>insulin</th>\n",
       "      <th>change</th>\n",
       "      <th>diabetesMed</th>\n",
       "      <th>readmitted</th>\n",
       "    </tr>\n",
       "  </thead>\n",
       "  <tbody>\n",
       "    <tr>\n",
       "      <th>0</th>\n",
       "      <td>0-10</td>\n",
       "      <td>0</td>\n",
       "      <td>1</td>\n",
       "      <td>41</td>\n",
       "      <td>0</td>\n",
       "      <td>1</td>\n",
       "      <td>1</td>\n",
       "      <td>None</td>\n",
       "      <td>No</td>\n",
       "      <td>No</td>\n",
       "      <td>No</td>\n",
       "      <td>No</td>\n",
       "      <td>No</td>\n",
       "      <td>No</td>\n",
       "      <td>0</td>\n",
       "      <td>0</td>\n",
       "      <td>NO</td>\n",
       "    </tr>\n",
       "    <tr>\n",
       "      <th>1</th>\n",
       "      <td>10-20</td>\n",
       "      <td>0</td>\n",
       "      <td>3</td>\n",
       "      <td>59</td>\n",
       "      <td>0</td>\n",
       "      <td>18</td>\n",
       "      <td>9</td>\n",
       "      <td>None</td>\n",
       "      <td>No</td>\n",
       "      <td>No</td>\n",
       "      <td>No</td>\n",
       "      <td>No</td>\n",
       "      <td>No</td>\n",
       "      <td>Up</td>\n",
       "      <td>1</td>\n",
       "      <td>1</td>\n",
       "      <td>&gt;30</td>\n",
       "    </tr>\n",
       "  </tbody>\n",
       "</table>\n",
       "</div>"
      ],
      "text/plain": [
       "     age weight  time_in_hospital  num_lab_procedures  num_procedures  \\\n",
       "0   0-10      0                 1                  41               0   \n",
       "1  10-20      0                 3                  59               0   \n",
       "\n",
       "   num_medications  number_diagnoses A1Cresult metformin glimepiride  \\\n",
       "0                1                 1      None        No          No   \n",
       "1               18                 9      None        No          No   \n",
       "\n",
       "  glipizide glyburide rosiglitazone insulin  change  diabetesMed readmitted  \n",
       "0        No        No            No      No       0            0         NO  \n",
       "1        No        No            No      Up       1            1        >30  "
      ]
     },
     "execution_count": 2,
     "metadata": {},
     "output_type": "execute_result"
    }
   ],
   "source": [
    "df = pd.read_csv('preproc_df.csv')\n",
    "df.head(2)"
   ]
  },
  {
   "cell_type": "code",
   "execution_count": 3,
   "metadata": {},
   "outputs": [
    {
     "data": {
      "text/html": [
       "<div>\n",
       "<style scoped>\n",
       "    .dataframe tbody tr th:only-of-type {\n",
       "        vertical-align: middle;\n",
       "    }\n",
       "\n",
       "    .dataframe tbody tr th {\n",
       "        vertical-align: top;\n",
       "    }\n",
       "\n",
       "    .dataframe thead th {\n",
       "        text-align: right;\n",
       "    }\n",
       "</style>\n",
       "<table border=\"1\" class=\"dataframe\">\n",
       "  <thead>\n",
       "    <tr style=\"text-align: right;\">\n",
       "      <th></th>\n",
       "      <th>age</th>\n",
       "      <th>weight</th>\n",
       "      <th>time_in_hospital</th>\n",
       "      <th>num_lab_procedures</th>\n",
       "      <th>num_procedures</th>\n",
       "      <th>num_medications</th>\n",
       "      <th>number_diagnoses</th>\n",
       "      <th>A1Cresult</th>\n",
       "      <th>metformin</th>\n",
       "      <th>glimepiride</th>\n",
       "      <th>glipizide</th>\n",
       "      <th>glyburide</th>\n",
       "      <th>rosiglitazone</th>\n",
       "      <th>insulin</th>\n",
       "      <th>change</th>\n",
       "      <th>diabetesMed</th>\n",
       "      <th>readmitted</th>\n",
       "    </tr>\n",
       "  </thead>\n",
       "  <tbody>\n",
       "    <tr>\n",
       "      <th>0</th>\n",
       "      <td>0</td>\n",
       "      <td>0</td>\n",
       "      <td>1</td>\n",
       "      <td>41</td>\n",
       "      <td>0</td>\n",
       "      <td>1</td>\n",
       "      <td>1</td>\n",
       "      <td>2</td>\n",
       "      <td>1</td>\n",
       "      <td>1</td>\n",
       "      <td>1</td>\n",
       "      <td>1</td>\n",
       "      <td>1</td>\n",
       "      <td>1</td>\n",
       "      <td>0</td>\n",
       "      <td>0</td>\n",
       "      <td>2</td>\n",
       "    </tr>\n",
       "    <tr>\n",
       "      <th>1</th>\n",
       "      <td>1</td>\n",
       "      <td>0</td>\n",
       "      <td>3</td>\n",
       "      <td>59</td>\n",
       "      <td>0</td>\n",
       "      <td>18</td>\n",
       "      <td>9</td>\n",
       "      <td>2</td>\n",
       "      <td>1</td>\n",
       "      <td>1</td>\n",
       "      <td>1</td>\n",
       "      <td>1</td>\n",
       "      <td>1</td>\n",
       "      <td>3</td>\n",
       "      <td>1</td>\n",
       "      <td>1</td>\n",
       "      <td>1</td>\n",
       "    </tr>\n",
       "  </tbody>\n",
       "</table>\n",
       "</div>"
      ],
      "text/plain": [
       "   age  weight  time_in_hospital  num_lab_procedures  num_procedures  \\\n",
       "0    0       0                 1                  41               0   \n",
       "1    1       0                 3                  59               0   \n",
       "\n",
       "   num_medications  number_diagnoses  A1Cresult  metformin  glimepiride  \\\n",
       "0                1                 1          2          1            1   \n",
       "1               18                 9          2          1            1   \n",
       "\n",
       "   glipizide  glyburide  rosiglitazone  insulin  change  diabetesMed  \\\n",
       "0          1          1              1        1       0            0   \n",
       "1          1          1              1        3       1            1   \n",
       "\n",
       "   readmitted  \n",
       "0           2  \n",
       "1           1  "
      ]
     },
     "execution_count": 3,
     "metadata": {},
     "output_type": "execute_result"
    }
   ],
   "source": [
    "encod = {}\n",
    "proc_df = df.copy()\n",
    "str_df = df.select_dtypes(object).copy()\n",
    "\n",
    "for col in str_df:\n",
    "    proc_df[col] = LabelEncoder().fit_transform(str_df[col])\n",
    "proc_df.head(2)"
   ]
  },
  {
   "cell_type": "markdown",
   "metadata": {},
   "source": [
    "# 4.1 РАЗБИЕНИЕ ДАННЫХ НА ОБУЧАЮЩУЮ И ТЕСТИРУЮЩУЮ ВЫБОРКИ"
   ]
  },
  {
   "cell_type": "markdown",
   "metadata": {},
   "source": [
    "Перед обучением модели нужно разделить данные на обучающую и тестовую выборки, для дальнейшей оценки точности каждой модели. Размер тестовой выборки будет 30% от общего объема данных, это связано с достаточно большим размером выборки. Разделение данных будет с учетом целевой переменной, поэтому недообучение маловероятно."
   ]
  },
  {
   "cell_type": "code",
   "execution_count": 4,
   "metadata": {},
   "outputs": [],
   "source": [
    "X_train, X_test, y_train, y_test = train_test_split(proc_df.drop('readmitted',1), proc_df['readmitted'], test_size=0.30, random_state=1, stratify=df['readmitted'])"
   ]
  },
  {
   "cell_type": "markdown",
   "metadata": {},
   "source": [
    "# 4.3 АРГУМЕНТИРОВАННЫЙ ВЫБОР МОДЕЛИ КЛАССИФИКАЦИИ"
   ]
  },
  {
   "cell_type": "markdown",
   "metadata": {},
   "source": [
    "Наиболее подходящими моделями и методами классификации я считаю:\n",
    "- RandomForestClassifier - хорошо работает с большими данными и устойчив к выбросам\n",
    "- GradientBoostingClassifier - устойчив к выбросам\n",
    "- KNeighborsClassifier - хорошо работает с большими данными"
   ]
  },
  {
   "cell_type": "code",
   "execution_count": 5,
   "metadata": {},
   "outputs": [],
   "source": [
    "# Импорт необходимых моделей\n",
    "from sklearn.ensemble import RandomForestClassifier\n",
    "from sklearn.ensemble import GradientBoostingClassifier\n",
    "from sklearn.neighbors import KNeighborsClassifier\n",
    "\n",
    "# Импорт матрицы ошибок\n",
    "from sklearn.metrics import plot_confusion_matrix\n",
    "import matplotlib.pyplot as plt\n",
    "%matplotlib inline\n",
    "import seaborn as sns"
   ]
  },
  {
   "cell_type": "code",
   "execution_count": 6,
   "metadata": {},
   "outputs": [],
   "source": [
    "# определение моделей\n",
    "rfc = RandomForestClassifier(n_jobs=-1, random_state=1)\n",
    "gbc = GradientBoostingClassifier(random_state=1)\n",
    "knc = KNeighborsClassifier(n_jobs=-1)"
   ]
  },
  {
   "cell_type": "code",
   "execution_count": 7,
   "metadata": {},
   "outputs": [
    {
     "name": "stdout",
     "output_type": "stream",
     "text": [
      "Wall time: 2.83 s\n",
      "Wall time: 20.2 s\n",
      "Wall time: 503 ms\n"
     ]
    },
    {
     "data": {
      "text/plain": [
       "KNeighborsClassifier(n_jobs=-1)"
      ]
     },
     "execution_count": 7,
     "metadata": {},
     "output_type": "execute_result"
    }
   ],
   "source": [
    "# обучение моделей\n",
    "%time rfc.fit(X_train, y_train)\n",
    "%time gbc.fit(X_train, y_train)\n",
    "%time knc.fit(X_train, y_train)"
   ]
  },
  {
   "cell_type": "code",
   "execution_count": 8,
   "metadata": {
    "scrolled": true
   },
   "outputs": [
    {
     "name": "stdout",
     "output_type": "stream",
     "text": [
      "Точность RandomForestClassifier: 0.5165411071077629\n",
      "Точность GradientBoostingClassifier: 0.5461185718964953\n",
      "Точность KNeighborsClassifier: 0.46829348182115954\n"
     ]
    }
   ],
   "source": [
    "print(\"Точность RandomForestClassifier:\", rfc.score(X_test,y_test))\n",
    "print(\"Точность GradientBoostingClassifier:\", gbc.score(X_test,y_test))\n",
    "print(\"Точность KNeighborsClassifier:\", knc.score(X_test,y_test))"
   ]
  },
  {
   "cell_type": "markdown",
   "metadata": {},
   "source": [
    "Метод случайного леса и градиентный бустинг показали неплохой результат, по сравнению с классификатором knn."
   ]
  },
  {
   "cell_type": "markdown",
   "metadata": {},
   "source": [
    "После обучения моделей нужно оценить их точность. Я буду использовать график матрицы ошибок, а также встроенные методы для оценки точности модели. "
   ]
  },
  {
   "cell_type": "code",
   "execution_count": 9,
   "metadata": {},
   "outputs": [
    {
     "data": {
      "text/plain": [
       "<sklearn.metrics._plot.confusion_matrix.ConfusionMatrixDisplay at 0x224471c4b20>"
      ]
     },
     "execution_count": 9,
     "metadata": {},
     "output_type": "execute_result"
    },
    {
     "data": {
      "image/png": "[encoded data removed]",
      "text/plain": [
       "<Figure size 1296x360 with 6 Axes>"
      ]
     },
     "metadata": {
      "needs_background": "light"
     },
     "output_type": "display_data"
    }
   ],
   "source": [
    "fig, (ax1,ax2,ax3) = plt.subplots(1,3,figsize=(18, 5))\n",
    "\n",
    "ax1.set_title('RandomForestClassifier')\n",
    "ax2.set_title('GradientBoostingClassifier')\n",
    "ax3.set_title('KNeighborsClassifier')\n",
    "\n",
    "plot_confusion_matrix(rfc, X_test, y_test, display_labels=['<30','>30','no'], normalize='all', ax=ax1)\n",
    "plot_confusion_matrix(gbc, X_test, y_test, display_labels=['<30','>30','no'], normalize='all', ax=ax2)\n",
    "plot_confusion_matrix(knc, X_test, y_test, display_labels=['<30','>30','no'], normalize='all', ax=ax3)"
   ]
  },
  {
   "cell_type": "markdown",
   "metadata": {},
   "source": [
    "# 4.2 ВИЗУАЛЬНОЕ ОБОСНОВАНИЕ ВЫБОРА ПЕРЕМЕННЫХ/ РАБОТОСПОСОБНОСТИ МОДЕЛИ"
   ]
  },
  {
   "cell_type": "code",
   "execution_count": 10,
   "metadata": {
    "scrolled": false
   },
   "outputs": [
    {
     "data": {
      "image/png": "[encoded data removed]",
      "text/plain": [
       "<Figure size 1296x504 with 1 Axes>"
      ]
     },
     "metadata": {
      "needs_background": "light"
     },
     "output_type": "display_data"
    }
   ],
   "source": [
    "plt.figure(figsize=(18, 7))\n",
    "\n",
    "sns.barplot(x=df.drop('readmitted',1).columns, y=rfc.feature_importances_)\n",
    "plt.xticks(rotation=60);"
   ]
  },
  {
   "cell_type": "markdown",
   "metadata": {},
   "source": [
    "На графике можно увидеть, что переменные **`age`, `time_in_hospital`, `num_lab_procedures`, `num_medications`** влияют на результат больше всего"
   ]
  },
  {
   "cell_type": "markdown",
   "metadata": {},
   "source": [
    "# Feature Engineering"
   ]
  },
  {
   "cell_type": "markdown",
   "metadata": {},
   "source": [
    "На графике выше видно, что часть переменных слабо влияют на целевую переменную, поэтому есть смысл их исключить из выборки"
   ]
  },
  {
   "cell_type": "code",
   "execution_count": 11,
   "metadata": {},
   "outputs": [],
   "source": [
    "df=df.drop(['weight', 'metformin', 'glimepiride','glipizide','glyburide','rosiglitazone','change','num_procedures','diabetesMed'],1)"
   ]
  },
  {
   "cell_type": "code",
   "execution_count": 12,
   "metadata": {},
   "outputs": [
    {
     "data": {
      "text/html": [
       "<div>\n",
       "<style scoped>\n",
       "    .dataframe tbody tr th:only-of-type {\n",
       "        vertical-align: middle;\n",
       "    }\n",
       "\n",
       "    .dataframe tbody tr th {\n",
       "        vertical-align: top;\n",
       "    }\n",
       "\n",
       "    .dataframe thead th {\n",
       "        text-align: right;\n",
       "    }\n",
       "</style>\n",
       "<table border=\"1\" class=\"dataframe\">\n",
       "  <thead>\n",
       "    <tr style=\"text-align: right;\">\n",
       "      <th></th>\n",
       "      <th>age</th>\n",
       "      <th>time_in_hospital</th>\n",
       "      <th>num_lab_procedures</th>\n",
       "      <th>num_medications</th>\n",
       "      <th>number_diagnoses</th>\n",
       "      <th>A1Cresult</th>\n",
       "      <th>insulin</th>\n",
       "      <th>readmitted</th>\n",
       "    </tr>\n",
       "  </thead>\n",
       "  <tbody>\n",
       "    <tr>\n",
       "      <th>0</th>\n",
       "      <td>0-10</td>\n",
       "      <td>1</td>\n",
       "      <td>41</td>\n",
       "      <td>1</td>\n",
       "      <td>1</td>\n",
       "      <td>None</td>\n",
       "      <td>No</td>\n",
       "      <td>NO</td>\n",
       "    </tr>\n",
       "    <tr>\n",
       "      <th>1</th>\n",
       "      <td>10-20</td>\n",
       "      <td>3</td>\n",
       "      <td>59</td>\n",
       "      <td>18</td>\n",
       "      <td>9</td>\n",
       "      <td>None</td>\n",
       "      <td>Up</td>\n",
       "      <td>&gt;30</td>\n",
       "    </tr>\n",
       "    <tr>\n",
       "      <th>2</th>\n",
       "      <td>20-30</td>\n",
       "      <td>2</td>\n",
       "      <td>11</td>\n",
       "      <td>13</td>\n",
       "      <td>6</td>\n",
       "      <td>None</td>\n",
       "      <td>No</td>\n",
       "      <td>NO</td>\n",
       "    </tr>\n",
       "    <tr>\n",
       "      <th>3</th>\n",
       "      <td>30-40</td>\n",
       "      <td>2</td>\n",
       "      <td>44</td>\n",
       "      <td>16</td>\n",
       "      <td>7</td>\n",
       "      <td>None</td>\n",
       "      <td>Up</td>\n",
       "      <td>NO</td>\n",
       "    </tr>\n",
       "    <tr>\n",
       "      <th>4</th>\n",
       "      <td>40-50</td>\n",
       "      <td>1</td>\n",
       "      <td>51</td>\n",
       "      <td>8</td>\n",
       "      <td>5</td>\n",
       "      <td>None</td>\n",
       "      <td>Steady</td>\n",
       "      <td>NO</td>\n",
       "    </tr>\n",
       "    <tr>\n",
       "      <th>...</th>\n",
       "      <td>...</td>\n",
       "      <td>...</td>\n",
       "      <td>...</td>\n",
       "      <td>...</td>\n",
       "      <td>...</td>\n",
       "      <td>...</td>\n",
       "      <td>...</td>\n",
       "      <td>...</td>\n",
       "    </tr>\n",
       "    <tr>\n",
       "      <th>101761</th>\n",
       "      <td>70-80</td>\n",
       "      <td>3</td>\n",
       "      <td>51</td>\n",
       "      <td>16</td>\n",
       "      <td>9</td>\n",
       "      <td>&gt;8</td>\n",
       "      <td>Down</td>\n",
       "      <td>&gt;30</td>\n",
       "    </tr>\n",
       "    <tr>\n",
       "      <th>101762</th>\n",
       "      <td>80-90</td>\n",
       "      <td>5</td>\n",
       "      <td>33</td>\n",
       "      <td>18</td>\n",
       "      <td>9</td>\n",
       "      <td>None</td>\n",
       "      <td>Steady</td>\n",
       "      <td>NO</td>\n",
       "    </tr>\n",
       "    <tr>\n",
       "      <th>101763</th>\n",
       "      <td>70-80</td>\n",
       "      <td>1</td>\n",
       "      <td>53</td>\n",
       "      <td>9</td>\n",
       "      <td>13</td>\n",
       "      <td>None</td>\n",
       "      <td>Down</td>\n",
       "      <td>NO</td>\n",
       "    </tr>\n",
       "    <tr>\n",
       "      <th>101764</th>\n",
       "      <td>80-90</td>\n",
       "      <td>10</td>\n",
       "      <td>45</td>\n",
       "      <td>21</td>\n",
       "      <td>9</td>\n",
       "      <td>None</td>\n",
       "      <td>Up</td>\n",
       "      <td>NO</td>\n",
       "    </tr>\n",
       "    <tr>\n",
       "      <th>101765</th>\n",
       "      <td>70-80</td>\n",
       "      <td>6</td>\n",
       "      <td>13</td>\n",
       "      <td>3</td>\n",
       "      <td>9</td>\n",
       "      <td>None</td>\n",
       "      <td>No</td>\n",
       "      <td>NO</td>\n",
       "    </tr>\n",
       "  </tbody>\n",
       "</table>\n",
       "<p>101766 rows × 8 columns</p>\n",
       "</div>"
      ],
      "text/plain": [
       "          age  time_in_hospital  num_lab_procedures  num_medications  \\\n",
       "0        0-10                 1                  41                1   \n",
       "1       10-20                 3                  59               18   \n",
       "2       20-30                 2                  11               13   \n",
       "3       30-40                 2                  44               16   \n",
       "4       40-50                 1                  51                8   \n",
       "...       ...               ...                 ...              ...   \n",
       "101761  70-80                 3                  51               16   \n",
       "101762  80-90                 5                  33               18   \n",
       "101763  70-80                 1                  53                9   \n",
       "101764  80-90                10                  45               21   \n",
       "101765  70-80                 6                  13                3   \n",
       "\n",
       "        number_diagnoses A1Cresult insulin readmitted  \n",
       "0                      1      None      No         NO  \n",
       "1                      9      None      Up        >30  \n",
       "2                      6      None      No         NO  \n",
       "3                      7      None      Up         NO  \n",
       "4                      5      None  Steady         NO  \n",
       "...                  ...       ...     ...        ...  \n",
       "101761                 9        >8    Down        >30  \n",
       "101762                 9      None  Steady         NO  \n",
       "101763                13      None    Down         NO  \n",
       "101764                 9      None      Up         NO  \n",
       "101765                 9      None      No         NO  \n",
       "\n",
       "[101766 rows x 8 columns]"
      ]
     },
     "execution_count": 12,
     "metadata": {},
     "output_type": "execute_result"
    }
   ],
   "source": [
    "df"
   ]
  },
  {
   "cell_type": "markdown",
   "metadata": {},
   "source": [
    "Теперь после обработки данных нужно опять разделить данные на тестовую и обучающую выборки, а также привести к единому формату. Менять параметры для разделения данных не имеет смысла."
   ]
  },
  {
   "cell_type": "code",
   "execution_count": 13,
   "metadata": {},
   "outputs": [
    {
     "data": {
      "text/html": [
       "<div>\n",
       "<style scoped>\n",
       "    .dataframe tbody tr th:only-of-type {\n",
       "        vertical-align: middle;\n",
       "    }\n",
       "\n",
       "    .dataframe tbody tr th {\n",
       "        vertical-align: top;\n",
       "    }\n",
       "\n",
       "    .dataframe thead th {\n",
       "        text-align: right;\n",
       "    }\n",
       "</style>\n",
       "<table border=\"1\" class=\"dataframe\">\n",
       "  <thead>\n",
       "    <tr style=\"text-align: right;\">\n",
       "      <th></th>\n",
       "      <th>age</th>\n",
       "      <th>time_in_hospital</th>\n",
       "      <th>num_lab_procedures</th>\n",
       "      <th>num_medications</th>\n",
       "      <th>number_diagnoses</th>\n",
       "      <th>A1Cresult</th>\n",
       "      <th>insulin</th>\n",
       "      <th>readmitted</th>\n",
       "    </tr>\n",
       "  </thead>\n",
       "  <tbody>\n",
       "    <tr>\n",
       "      <th>0</th>\n",
       "      <td>0</td>\n",
       "      <td>1</td>\n",
       "      <td>41</td>\n",
       "      <td>1</td>\n",
       "      <td>1</td>\n",
       "      <td>2</td>\n",
       "      <td>1</td>\n",
       "      <td>2</td>\n",
       "    </tr>\n",
       "    <tr>\n",
       "      <th>1</th>\n",
       "      <td>1</td>\n",
       "      <td>3</td>\n",
       "      <td>59</td>\n",
       "      <td>18</td>\n",
       "      <td>9</td>\n",
       "      <td>2</td>\n",
       "      <td>3</td>\n",
       "      <td>1</td>\n",
       "    </tr>\n",
       "  </tbody>\n",
       "</table>\n",
       "</div>"
      ],
      "text/plain": [
       "   age  time_in_hospital  num_lab_procedures  num_medications  \\\n",
       "0    0                 1                  41                1   \n",
       "1    1                 3                  59               18   \n",
       "\n",
       "   number_diagnoses  A1Cresult  insulin  readmitted  \n",
       "0                 1          2        1           2  \n",
       "1                 9          2        3           1  "
      ]
     },
     "execution_count": 13,
     "metadata": {},
     "output_type": "execute_result"
    }
   ],
   "source": [
    "encod = {}\n",
    "proc_df = df.copy()\n",
    "str_df = df.select_dtypes(object)\n",
    "\n",
    "for col in str_df:\n",
    "    encod[col] = LabelEncoder()\n",
    "    proc_df[col] = encod[col].fit_transform(str_df[col])\n",
    "proc_df.head(2)"
   ]
  },
  {
   "cell_type": "code",
   "execution_count": 14,
   "metadata": {},
   "outputs": [],
   "source": [
    "X_train, X_test, y_train, y_test = train_test_split(proc_df.drop('readmitted',1), proc_df['readmitted'], test_size=0.30, random_state=1, stratify=df['readmitted'])"
   ]
  },
  {
   "cell_type": "code",
   "execution_count": 15,
   "metadata": {},
   "outputs": [],
   "source": [
    "# определение моделей\n",
    "rfc = RandomForestClassifier(n_jobs=-1, random_state=1, min_samples_leaf=3)\n",
    "gbc = GradientBoostingClassifier(random_state=1)\n",
    "knc = KNeighborsClassifier(n_jobs=-1)"
   ]
  },
  {
   "cell_type": "code",
   "execution_count": 16,
   "metadata": {},
   "outputs": [
    {
     "name": "stdout",
     "output_type": "stream",
     "text": [
      "Wall time: 1.65 s\n",
      "Wall time: 14.4 s\n",
      "Wall time: 237 ms\n"
     ]
    },
    {
     "data": {
      "text/plain": [
       "KNeighborsClassifier(n_jobs=-1)"
      ]
     },
     "execution_count": 16,
     "metadata": {},
     "output_type": "execute_result"
    }
   ],
   "source": [
    "# обучение моделей\n",
    "%time rfc.fit(X_train, y_train)\n",
    "%time gbc.fit(X_train, y_train)\n",
    "%time knc.fit(X_train, y_train)"
   ]
  },
  {
   "cell_type": "code",
   "execution_count": 17,
   "metadata": {
    "scrolled": true
   },
   "outputs": [
    {
     "name": "stdout",
     "output_type": "stream",
     "text": [
      "Точность RandomForestClassifier: 0.524991811333115\n",
      "Точность GradientBoostingClassifier: 0.5407140517523747\n",
      "Точность KNeighborsClassifier: 0.46033409760890925\n"
     ]
    }
   ],
   "source": [
    "print(\"Точность RandomForestClassifier:\", rfc.score(X_test,y_test))\n",
    "print(\"Точность GradientBoostingClassifier:\", gbc.score(X_test,y_test))\n",
    "print(\"Точность KNeighborsClassifier:\", knc.score(X_test,y_test))"
   ]
  },
  {
   "cell_type": "markdown",
   "metadata": {},
   "source": [
    "Как можно увидеть точность случайного леса немного повысилась, другие же модели без изменений. Градиентный бустинг опять показал хороший результат, поэтому его я буду использовать в дальнейшем."
   ]
  },
  {
   "cell_type": "code",
   "execution_count": 18,
   "metadata": {},
   "outputs": [],
   "source": [
    "# сохранение лучшей модели\n",
    "with open('model.pcl', 'wb') as f:\n",
    "    pickle.dump(gbc, f)\n",
    "\n",
    "# сохранение енкодера\n",
    "with open('encoder.pcl', 'wb') as f:\n",
    "    pickle.dump(encod,f)"
   ]
  },
  {
   "cell_type": "code",
   "execution_count": 19,
   "metadata": {},
   "outputs": [],
   "source": [
    "df.to_csv('proc_df.csv', index=None)"
   ]
  }
 ],
 "metadata": {
  "kernelspec": {
   "display_name": "Python 3",
   "language": "python",
   "name": "python3"
  },
  "language_info": {
   "codemirror_mode": {
    "name": "ipython",
    "version": 3
   },
   "file_extension": ".py",
   "mimetype": "text/x-python",
   "name": "python",
   "nbconvert_exporter": "python",
   "pygments_lexer": "ipython3",
   "version": "3.8.6"
  }
 },
 "nbformat": 4,
 "nbformat_minor": 4
}
