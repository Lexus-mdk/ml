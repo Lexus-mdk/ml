{
  "nbformat": 4,
  "nbformat_minor": 0,
  "metadata": {
    "kernelspec": {
      "display_name": "Python 3",
      "language": "python",
      "name": "python3"
    },
    "language_info": {
      "codemirror_mode": {
        "name": "ipython",
        "version": 3
      },
      "file_extension": ".py",
      "mimetype": "text/x-python",
      "name": "python",
      "nbconvert_exporter": "python",
      "pygments_lexer": "ipython3",
      "version": "3.8.3"
    },
    "colab": {
      "name": "api-Copy1.ipynb",
      "provenance": [],
      "include_colab_link": true
    }
  },
  "cells": [
    {
      "cell_type": "markdown",
      "metadata": {
        "id": "view-in-github",
        "colab_type": "text"
      },
      "source": [
        "<a href=\"https://colab.research.google.com/github/Lexus-mdk/ml/blob/main/api_Copy1.ipynb\" target=\"_parent\"><img src=\"https://colab.research.google.com/assets/colab-badge.svg\" alt=\"Open In Colab\"/></a>"
      ]
    },
    {
      "cell_type": "code",
      "metadata": {
        "id": "nGd40SCJweDI"
      },
      "source": [
        "# импорт необходимых библиотек\n",
        "import pickle\n",
        "import pandas as pd\n",
        "from flask import Flask, request"
      ],
      "execution_count": null,
      "outputs": []
    },
    {
      "cell_type": "code",
      "metadata": {
        "id": "53Wh6V4xweDW"
      },
      "source": [
        "# загружаем необходимые модули\n",
        "with open('vector.pcl', 'rb') as f:\n",
        "    encoder = vector.load(f)\n",
        "    \n",
        "with open('model.pcl', 'rb') as f:\n",
        "    model = pickle.load(f)"
      ],
      "execution_count": null,
      "outputs": []
    },
    {
      "cell_type": "markdown",
      "metadata": {
        "id": "Z2jiq3h4weDX"
      },
      "source": [
        "# Разработка API"
      ]
    },
    {
      "cell_type": "markdown",
      "metadata": {
        "id": "YJi934feweDY"
      },
      "source": [
        "Определю команды(функции), которые будут доступны в API"
      ]
    },
    {
      "cell_type": "code",
      "metadata": {
        "id": "x1ZhVMvuweDY"
      },
      "source": [
        "app = Flask(__name__)\n",
        "\n",
        "@app.route('/')\n",
        "def check_server():\n",
        "    return '''\n",
        "    <!DOCTYPE HTML>\n",
        "<html>\n",
        " <head>\n",
        "  <meta charset=\"utf-8\">\n",
        "  <title>Данные формы</title>\n",
        " </head>\n",
        " <body>\n",
        "  <form action=\"/model/prediction\" method='get'>\n",
        "  <label for=\"check1\">age</label>\n",
        "   <input name=\"age\"><br>\n",
        "   <label for=\"check1\">time_in_hospital</label>\n",
        "   <input name=\"time_in_hospital\"><br>\n",
        "   <label for=\"check1\">num_lab_procedures</label>\n",
        "   <input name=\"num_lab_procedures\"><br>\n",
        "   <label for=\"check1\">num_medications</label>\n",
        "   <input name=\"num_medications\"><br>\n",
        "   <label for=\"check1\">number_diagnoses</label>\n",
        "   <input name=\"number_diagnoses\"><br>\n",
        "   <label for=\"check1\">A1Cresult</label>\n",
        "   <input name=\"A1Cresult\"><br>\n",
        "   <label for=\"check1\">insulin</label>\n",
        "   <input name=\"insulin\"><br>\n",
        "   <input type=\"submit\">\n",
        "  </form>\n",
        " </body>\n",
        "</html>\n",
        "    '''\n",
        "\n",
        "@app.route('/model/prediction')\n",
        "def get_predict():\n",
        "#     X_df = pd.read_csv('data/'+ file_name)\n",
        "    \n",
        "    # X_df = {\n",
        "    #     'age': request.args.get('age'),\n",
        "    #     'time_in_hospital': request.args.get('time_in_hospital', type = int),\n",
        "    #     'num_lab_procedures': request.args.get('num_lab_procedures', type = int),\n",
        "    #     'num_medications': request.args.get('num_medications', type = int),\n",
        "    #     'number_diagnoses': request.args.get('number_diagnoses', type = int),\n",
        "    #     'A1Cresult': request.args.get('A1Cresult'),\n",
        "    #     'insulin': request.args.get('insulin')\n",
        "    # }\n",
        "    vect = vector.transform([request.args.get('skills')])\n",
        "    X_df = pd.DataFrame(vect, index=[0])\n",
        "    \n",
        "    # X_df['age'] = encoder['age'].transform(X_df['age'])\n",
        "    # X_df['A1Cresult'] = encoder['A1Cresult'].transform(X_df['A1Cresult'])\n",
        "    # X_df['insulin'] = encoder['insulin'].transform(X_df['insulin'])\n",
        "    \n",
        "    pred = model.predict(X_df)\n",
        "    # res = encoder['readmitted'].inverse_transform(pred)[0] if encoder['readmitted'].inverse_transform(pred)[0] != 'NO' else '0'\n",
        "\n",
        "    return f'Наиболее вероятно, что пациент будет повторно принят: {pred} раз'\n",
        "#     return X_df"
      ],
      "execution_count": null,
      "outputs": []
    },
    {
      "cell_type": "markdown",
      "metadata": {
        "id": "t8hHk792weDZ"
      },
      "source": [
        "### Запуск сервера"
      ]
    },
    {
      "cell_type": "markdown",
      "metadata": {
        "id": "Ucz_5jLbweDZ"
      },
      "source": [
        "Чтобы перейти на гл. страницу перейдите по ссылке ниже."
      ]
    },
    {
      "cell_type": "code",
      "metadata": {
        "scrolled": true,
        "id": "VUAUi86UweDa",
        "outputId": "8efaa8c1-a26e-49a7-f519-6e8ba279aba8"
      },
      "source": [
        "app.run()"
      ],
      "execution_count": null,
      "outputs": [
        {
          "output_type": "stream",
          "text": [
            " * Serving Flask app \"__main__\" (lazy loading)\n",
            " * Environment: production\n",
            "   WARNING: This is a development server. Do not use it in a production deployment.\n",
            "   Use a production WSGI server instead.\n",
            " * Debug mode: off\n"
          ],
          "name": "stdout"
        },
        {
          "output_type": "stream",
          "text": [
            " * Running on http://127.0.0.1:5000/ (Press CTRL+C to quit)\n"
          ],
          "name": "stderr"
        }
      ]
    },
    {
      "cell_type": "markdown",
      "metadata": {
        "id": "Bx2HI6JCweDc"
      },
      "source": [
        "Для проверки роботоспособности API можно перейти по ссылке: http://127.0.0.1:5000/"
      ]
    },
    {
      "cell_type": "code",
      "metadata": {
        "id": "KyCnNhudweDc"
      },
      "source": [
        ""
      ],
      "execution_count": null,
      "outputs": []
    },
    {
      "cell_type": "code",
      "metadata": {
        "id": "TY0hWRICweDc"
      },
      "source": [
        ""
      ],
      "execution_count": null,
      "outputs": []
    }
  ]
}