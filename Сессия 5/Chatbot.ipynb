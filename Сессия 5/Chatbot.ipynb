{
 "cells": [
  {
   "cell_type": "code",
   "execution_count": 1,
   "metadata": {},
   "outputs": [],
   "source": [
    "import pandas as pd\n",
    "import pickle"
   ]
  },
  {
   "cell_type": "code",
   "execution_count": 2,
   "metadata": {},
   "outputs": [
    {
     "data": {
      "text/html": [
       "<div>\n",
       "<style scoped>\n",
       "    .dataframe tbody tr th:only-of-type {\n",
       "        vertical-align: middle;\n",
       "    }\n",
       "\n",
       "    .dataframe tbody tr th {\n",
       "        vertical-align: top;\n",
       "    }\n",
       "\n",
       "    .dataframe thead th {\n",
       "        text-align: right;\n",
       "    }\n",
       "</style>\n",
       "<table border=\"1\" class=\"dataframe\">\n",
       "  <thead>\n",
       "    <tr style=\"text-align: right;\">\n",
       "      <th></th>\n",
       "      <th>age</th>\n",
       "      <th>time_in_hospital</th>\n",
       "      <th>num_lab_procedures</th>\n",
       "      <th>num_medications</th>\n",
       "      <th>number_diagnoses</th>\n",
       "      <th>A1Cresult</th>\n",
       "      <th>insulin</th>\n",
       "      <th>readmitted</th>\n",
       "    </tr>\n",
       "  </thead>\n",
       "  <tbody>\n",
       "    <tr>\n",
       "      <th>0</th>\n",
       "      <td>0-10</td>\n",
       "      <td>1</td>\n",
       "      <td>41</td>\n",
       "      <td>1</td>\n",
       "      <td>1</td>\n",
       "      <td>None</td>\n",
       "      <td>No</td>\n",
       "      <td>NO</td>\n",
       "    </tr>\n",
       "    <tr>\n",
       "      <th>1</th>\n",
       "      <td>10-20</td>\n",
       "      <td>3</td>\n",
       "      <td>59</td>\n",
       "      <td>18</td>\n",
       "      <td>9</td>\n",
       "      <td>None</td>\n",
       "      <td>Up</td>\n",
       "      <td>&gt;30</td>\n",
       "    </tr>\n",
       "  </tbody>\n",
       "</table>\n",
       "</div>"
      ],
      "text/plain": [
       "     age  time_in_hospital  num_lab_procedures  num_medications  \\\n",
       "0   0-10                 1                  41                1   \n",
       "1  10-20                 3                  59               18   \n",
       "\n",
       "   number_diagnoses A1Cresult insulin readmitted  \n",
       "0                 1      None      No         NO  \n",
       "1                 9      None      Up        >30  "
      ]
     },
     "execution_count": 2,
     "metadata": {},
     "output_type": "execute_result"
    }
   ],
   "source": [
    "df = pd.read_csv('proc_df.csv')\n",
    "df.head(2)"
   ]
  },
  {
   "cell_type": "markdown",
   "metadata": {},
   "source": [
    "# Разработка бота "
   ]
  },
  {
   "cell_type": "code",
   "execution_count": 3,
   "metadata": {},
   "outputs": [],
   "source": [
    "with open('encoder.pcl', 'rb') as f:\n",
    "    encoder = pickle.load(f)\n",
    "    \n",
    "with open('model.pcl', 'rb') as f:\n",
    "    model = pickle.load(f)"
   ]
  },
  {
   "cell_type": "code",
   "execution_count": 4,
   "metadata": {},
   "outputs": [],
   "source": [
    "def answer(s):\n",
    "    print(f'> Бот:\\n{s}')\n",
    "\n",
    "def helpp():\n",
    "    answer('Чтобы посмотреть список команд введите commands, для выхода введите exit')\n",
    "    \n",
    "def get_predict():\n",
    "    answer('Ведите возраст')\n",
    "    age = input('> Пользователь:\\n').strip()\n",
    "    \n",
    "    answer('Ведите время проведенное в госпитале')\n",
    "    time_in_hospital = input('> Пользователь:\\n').strip() \n",
    "    \n",
    "    answer('Ведите количество лабораторных процедур')\n",
    "    num_lab_procedures = input('> Пользователь:\\n').strip()\n",
    "    \n",
    "    answer('Ведите количество лекарств')\n",
    "    num_medications = input('> Пользователь:\\n').strip()\n",
    "    \n",
    "    answer('Ведите количество диагнозов')\n",
    "    number_diagnoses = input('> Пользователь:\\n').strip()\n",
    "    \n",
    "    answer('Ведите результат A1Cresult')\n",
    "    A1Cresult = input('> Пользователь:\\n').strip()\n",
    "    \n",
    "    answer('Ведите результат теста на инсулин')\n",
    "    insulin = input('> Пользователь:\\n').strip()\n",
    "    \n",
    "    X_df = {\n",
    "        'age': encoder['age'].transform([age]),\n",
    "        'time_in_hospital': time_in_hospital,\n",
    "        'num_lab_procedures': num_lab_procedures,\n",
    "        'num_medications': num_medications,\n",
    "        'number_diagnoses': number_diagnoses,\n",
    "        'A1Cresult': encoder['A1Cresult'].transform([A1Cresult]),\n",
    "        'insulin': encoder['insulin'].transform([insulin])\n",
    "    }\n",
    "    X_df = pd.DataFrame(X_df)\n",
    "    pred = model.predict(X_df)\n",
    "    res = encoder['readmitted'].inverse_transform(pred)[0] if encoder['readmitted'].inverse_transform(pred)[0] != 'NO' else '0'\n",
    "\n",
    "    answer(f'Наиболее вероятно, что пациент будет повторно принят: {res} раз')"
   ]
  },
  {
   "cell_type": "code",
   "execution_count": 5,
   "metadata": {},
   "outputs": [],
   "source": [
    "commands = {\n",
    "    'help': helpp,\n",
    "    'помощь': helpp,\n",
    "    'get_predict': get_predict,\n",
    "}"
   ]
  },
  {
   "cell_type": "code",
   "execution_count": null,
   "metadata": {},
   "outputs": [
    {
     "name": "stdout",
     "output_type": "stream",
     "text": [
      "> Пользователь:\n"
     ]
    }
   ],
   "source": [
    "while True:\n",
    "    print('> Пользователь:')\n",
    "    put = input().lower().strip()\n",
    "    if put == 'exit':\n",
    "        break\n",
    "    \n",
    "    if put in commands:\n",
    "        commands[put]()\n",
    "    elif put == 'commands':\n",
    "        answer(', '.join(commands.keys()))\n",
    "    else:\n",
    "        answer('Я вас не понимаю. Введите commands, чтобы посмотреть список команд')"
   ]
  },
  {
   "cell_type": "markdown",
   "metadata": {},
   "source": [
    "Для проверки можете ввести сл. значения **`'10-20'`, `14`, `55`, `15`, `6`, `'Norm'`, `'Down'`, `'>30'`** или же случайную запись, предоставленную ниже"
   ]
  },
  {
   "cell_type": "code",
   "execution_count": null,
   "metadata": {},
   "outputs": [],
   "source": [
    "df.drop('readmitted',1).sample(1)"
   ]
  },
  {
   "cell_type": "code",
   "execution_count": null,
   "metadata": {},
   "outputs": [],
   "source": []
  },
  {
   "cell_type": "code",
   "execution_count": null,
   "metadata": {},
   "outputs": [],
   "source": []
  },
  {
   "cell_type": "code",
   "execution_count": null,
   "metadata": {},
   "outputs": [],
   "source": []
  },
  {
   "cell_type": "code",
   "execution_count": null,
   "metadata": {},
   "outputs": [],
   "source": []
  },
  {
   "cell_type": "code",
   "execution_count": null,
   "metadata": {},
   "outputs": [],
   "source": []
  },
  {
   "cell_type": "code",
   "execution_count": null,
   "metadata": {},
   "outputs": [],
   "source": []
  },
  {
   "cell_type": "code",
   "execution_count": null,
   "metadata": {},
   "outputs": [],
   "source": []
  },
  {
   "cell_type": "code",
   "execution_count": null,
   "metadata": {},
   "outputs": [],
   "source": []
  },
  {
   "cell_type": "code",
   "execution_count": null,
   "metadata": {},
   "outputs": [],
   "source": []
  },
  {
   "cell_type": "code",
   "execution_count": null,
   "metadata": {},
   "outputs": [],
   "source": []
  },
  {
   "cell_type": "code",
   "execution_count": null,
   "metadata": {},
   "outputs": [],
   "source": []
  },
  {
   "cell_type": "code",
   "execution_count": null,
   "metadata": {},
   "outputs": [],
   "source": []
  },
  {
   "cell_type": "code",
   "execution_count": null,
   "metadata": {},
   "outputs": [],
   "source": []
  },
  {
   "cell_type": "code",
   "execution_count": null,
   "metadata": {},
   "outputs": [],
   "source": []
  },
  {
   "cell_type": "code",
   "execution_count": null,
   "metadata": {},
   "outputs": [],
   "source": []
  },
  {
   "cell_type": "code",
   "execution_count": null,
   "metadata": {},
   "outputs": [],
   "source": []
  },
  {
   "cell_type": "code",
   "execution_count": null,
   "metadata": {},
   "outputs": [],
   "source": []
  },
  {
   "cell_type": "code",
   "execution_count": null,
   "metadata": {},
   "outputs": [],
   "source": []
  },
  {
   "cell_type": "code",
   "execution_count": null,
   "metadata": {},
   "outputs": [],
   "source": []
  },
  {
   "cell_type": "code",
   "execution_count": null,
   "metadata": {},
   "outputs": [],
   "source": []
  },
  {
   "cell_type": "code",
   "execution_count": null,
   "metadata": {},
   "outputs": [],
   "source": []
  },
  {
   "cell_type": "code",
   "execution_count": null,
   "metadata": {},
   "outputs": [],
   "source": []
  },
  {
   "cell_type": "code",
   "execution_count": null,
   "metadata": {},
   "outputs": [],
   "source": []
  }
 ],
 "metadata": {
  "kernelspec": {
   "display_name": "Python 3",
   "language": "python",
   "name": "python3"
  },
  "language_info": {
   "codemirror_mode": {
    "name": "ipython",
    "version": 3
   },
   "file_extension": ".py",
   "mimetype": "text/x-python",
   "name": "python",
   "nbconvert_exporter": "python",
   "pygments_lexer": "ipython3",
   "version": "3.8.5"
  }
 },
 "nbformat": 4,
 "nbformat_minor": 4
}
